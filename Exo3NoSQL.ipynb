{
 "cells": [
  {
   "cell_type": "code",
   "execution_count": null,
   "metadata": {},
   "outputs": [],
   "source": []
  },
  {
   "cell_type": "code",
   "execution_count": 30,
   "metadata": {},
   "outputs": [],
   "source": [
    "import pymongo\n",
    "client = pymongo.MongoClient('localhost', 27017)\n",
    "mydb = client[\"Todo\"]\n",
    "collection = mydb[\"CRUD_exercise\"]"
   ]
  },
  {
   "cell_type": "code",
   "execution_count": 31,
   "metadata": {},
   "outputs": [
    {
     "data": {
      "text/plain": [
       "InsertOneResult(ObjectId('662a6ce7e816cd37a7bd7160'), acknowledged=True)"
      ]
     },
     "execution_count": 31,
     "metadata": {},
     "output_type": "execute_result"
    }
   ],
   "source": [
    "lecun_paper = {\n",
    "    \"title\": \"Deep Learning\",\n",
    "    \"authors\": {\n",
    "        \"Yann LeCun\": {\"affiliations\": [\"Facebook AI Research\", \"New York University\"]},\n",
    "        \"Yoshua Bengio\": {\"affiliations\": [\"Department of Computer Science and Operations Research Université de Montréal\"]},\n",
    "        \"Geoffrey Hinton\": {\"affiliations\": [\"Google\", \"Department of Computer Science, University of Toronto\"]}\n",
    "    }\n",
    "}\n",
    "goodfellow_paper = {\n",
    "    \"title\": \"Generative Adversarial Nets\",\n",
    "    \"authors\": {\n",
    "        \"Ian Goodfellow\": {\"affiliations\": [\"Universite de Montreal\"]},\n",
    "        \"Jean Pouget-Abadie\": {\"affiliations\": [\"Ecole Polytechnique\"]},\n",
    "        \"Mehdi Mirza\": {\"affiliations\": [\"Université de Montréal\"]},\n",
    "        \"Bing Xu\": {\"affiliations\": [\"Université de Montréal\"]},\n",
    "        \"David Warde-Farley\": {\"affiliations\": [\"Université de Montréal\"]},\n",
    "        \"Sherjil Ozair\": {\"affiliations\": [\"Indian Institute of Technology Delhi\"]},\n",
    "        \"Aaron Courville\": {\"affiliations\": [\"Université de Montréal\"]},\n",
    "        \"Yoshua Bengio\": {\"affiliations\": [\"CIFAR Senior Fellow\"]}\n",
    "    }\n",
    "}\n",
    "papers_dict = {\n",
    "    \"LeCun et al.\": lecun_paper,\n",
    "    \"Goodfellow et al.\": goodfellow_paper\n",
    "}\n",
    "\n",
    "collection.insert_one(papers_dict)"
   ]
  },
  {
   "cell_type": "code",
   "execution_count": 32,
   "metadata": {},
   "outputs": [
    {
     "data": {
      "text/plain": [
       "InsertOneResult(ObjectId('662a6cebe816cd37a7bd7163'), acknowledged=True)"
      ]
     },
     "execution_count": 32,
     "metadata": {},
     "output_type": "execute_result"
    }
   ],
   "source": [
    "# Insérer les 3 documents avec la clé \"x\" et la valeur \"1\"\n",
    "doc1 = {\"x\": 1, \"value\": 1}\n",
    "doc2 = {\"x\": 1, \"value\": 1}\n",
    "doc3 = {\"x\": 1, \"value\": 1}\n",
    "\n",
    "collection.insert_one(doc1)\n",
    "collection.insert_one(doc2)\n",
    "collection.insert_one(doc3)"
   ]
  },
  {
   "cell_type": "code",
   "execution_count": 33,
   "metadata": {},
   "outputs": [
    {
     "data": {
      "text/plain": [
       "DeleteResult({'n': 1, 'ok': 1.0}, acknowledged=True)"
      ]
     },
     "execution_count": 33,
     "metadata": {},
     "output_type": "execute_result"
    }
   ],
   "source": [
    "# Supprimer un des documents\n",
    "collection.delete_one({\"x\": 1})"
   ]
  },
  {
   "cell_type": "code",
   "execution_count": 34,
   "metadata": {},
   "outputs": [
    {
     "data": {
      "text/plain": [
       "UpdateResult({'n': 2, 'nModified': 2, 'ok': 1.0, 'updatedExisting': True}, acknowledged=True)"
      ]
     },
     "execution_count": 34,
     "metadata": {},
     "output_type": "execute_result"
    }
   ],
   "source": [
    "# Incrémenter la valeur de \"x\" à 4 pour tous les documents restants\n",
    "collection.update_many({\"x\": 1}, {\"$set\": {\"x\": 4}})"
   ]
  },
  {
   "cell_type": "code",
   "execution_count": 35,
   "metadata": {},
   "outputs": [
    {
     "ename": "OSError",
     "evalue": "Error reading file '/Users/polo11/Downlaods/xml_file2.nxml': failed to load external entity \"/Users/polo11/Downlaods/xml_file2.nxml\"",
     "output_type": "error",
     "traceback": [
      "\u001b[0;31m---------------------------------------------------------------------------\u001b[0m",
      "\u001b[0;31mOSError\u001b[0m                                   Traceback (most recent call last)",
      "Cell \u001b[0;32mIn[35], line 5\u001b[0m\n\u001b[1;32m      2\u001b[0m \u001b[38;5;28;01mimport\u001b[39;00m \u001b[38;5;21;01mlxml\u001b[39;00m\u001b[38;5;21;01m.\u001b[39;00m\u001b[38;5;21;01metree\u001b[39;00m\n\u001b[1;32m      4\u001b[0m xml_file2 \u001b[38;5;241m=\u001b[39m \u001b[38;5;124m\"\u001b[39m\u001b[38;5;124m/Users/polo11/Downlaods/xml_file2.nxml\u001b[39m\u001b[38;5;124m\"\u001b[39m\n\u001b[0;32m----> 5\u001b[0m root \u001b[38;5;241m=\u001b[39m lxml\u001b[38;5;241m.\u001b[39metree\u001b[38;5;241m.\u001b[39mparse(xml_file2)\n\u001b[1;32m      7\u001b[0m \u001b[38;5;66;03m# stocke les différentes infos\u001b[39;00m\n\u001b[1;32m      8\u001b[0m date \u001b[38;5;241m=\u001b[39m root\u001b[38;5;241m.\u001b[39mxpath(\u001b[38;5;124m\"\u001b[39m\u001b[38;5;124m//date//text()\u001b[39m\u001b[38;5;124m\"\u001b[39m)\n",
      "File \u001b[0;32msrc/lxml/etree.pyx:3541\u001b[0m, in \u001b[0;36mlxml.etree.parse\u001b[0;34m()\u001b[0m\n",
      "File \u001b[0;32msrc/lxml/parser.pxi:1879\u001b[0m, in \u001b[0;36mlxml.etree._parseDocument\u001b[0;34m()\u001b[0m\n",
      "File \u001b[0;32msrc/lxml/parser.pxi:1905\u001b[0m, in \u001b[0;36mlxml.etree._parseDocumentFromURL\u001b[0;34m()\u001b[0m\n",
      "File \u001b[0;32msrc/lxml/parser.pxi:1808\u001b[0m, in \u001b[0;36mlxml.etree._parseDocFromFile\u001b[0;34m()\u001b[0m\n",
      "File \u001b[0;32msrc/lxml/parser.pxi:1180\u001b[0m, in \u001b[0;36mlxml.etree._BaseParser._parseDocFromFile\u001b[0;34m()\u001b[0m\n",
      "File \u001b[0;32msrc/lxml/parser.pxi:618\u001b[0m, in \u001b[0;36mlxml.etree._ParserContext._handleParseResultDoc\u001b[0;34m()\u001b[0m\n",
      "File \u001b[0;32msrc/lxml/parser.pxi:728\u001b[0m, in \u001b[0;36mlxml.etree._handleParseResult\u001b[0;34m()\u001b[0m\n",
      "File \u001b[0;32msrc/lxml/parser.pxi:655\u001b[0m, in \u001b[0;36mlxml.etree._raiseParseError\u001b[0;34m()\u001b[0m\n",
      "\u001b[0;31mOSError\u001b[0m: Error reading file '/Users/polo11/Downlaods/xml_file2.nxml': failed to load external entity \"/Users/polo11/Downlaods/xml_file2.nxml\""
     ]
    }
   ],
   "source": [
    "# charge la data \n",
    "import lxml.etree\n",
    "\n",
    "xml_file2 = \"/Users/polo11/Downlaods/xml_file2.nxml\"\n",
    "root = lxml.etree.parse(xml_file2)\n",
    "\n",
    "# stocke les différentes infos\n",
    "date = root.xpath(\"//date//text()\")\n",
    "hour = root.xpath(\"//hour//text()\")\n",
    "to = root.xpath(\"//to//text()\")\n",
    "from_ = root.xpath(\"//from//text()\")\n",
    "body = root.xpath(\"//body//text()\")\n",
    "\n",
    "# Crée un dictionnaire avec les informations\n",
    "info_dict = {\n",
    "    \"date\": date,\n",
    "    \"hour\": hour,\n",
    "    \"to\": to,\n",
    "    \"from\": from_,\n",
    "    \"body\": body\n",
    "}\n",
    "collection.insert_one(info_dict)"
   ]
  },
  {
   "cell_type": "code",
   "execution_count": null,
   "metadata": {},
   "outputs": [],
   "source": [
    "import pymongo\n",
    "\n",
    "# Connexion à la base de données MongoDB et à la collection \"CRUD_exercise\"\n",
    "client = pymongo.MongoClient(\"mongodb://localhost:27017/\")\n",
    "db = client[\"Todo\"]\n",
    "collection = db[\"CRUD_exercise\"]\n",
    "\n",
    "# Requête pour récupérer les documents où la clé \"authors\" existe\n",
    "query = {\"authors\": {\"$exists\": True}}\n",
    "\n",
    "# Récupérer les documents correspondant à la requête\n",
    "documents_with_authors = collection.find(query)\n",
    "\n",
    "# Parcourir les documents et les afficher (ou les traiter comme nécessaire)\n",
    "for document in documents_with_authors:\n",
    "    print(document)\n"
   ]
  },
  {
   "cell_type": "code",
   "execution_count": 29,
   "metadata": {},
   "outputs": [
    {
     "data": {
      "text/plain": [
       "['authors']"
      ]
     },
     "execution_count": 29,
     "metadata": {},
     "output_type": "execute_result"
    }
   ],
   "source": [
    "import pymongo\n",
    "\n",
    "# Assuming you've already established a connection to your MongoDB server\n",
    "client = pymongo.MongoClient(\"mongodb://localhost:27017/\")\n",
    "db = client[\"your_database_name\"]  # Replace \"your_database_name\" with your actual database name\n",
    "collection = db[\"CRUD_exercise\"]\n",
    "\n",
    "# Query to retrieve documents where the \"authors\" key exists\n",
    "doc = query = {\"authors\": {\"$exists\":1}}\n",
    "\n",
    "docs = collection.find({\"authors\":{\"$exists\":1}})\n",
    "# Fetch documents matching the query\n",
    "documents_with_authors = collection.find(query)\n",
    "\n",
    "# Iterate over the documents and print them (or process them as needed)\n",
    "for doc in documents_with_authors:\n",
    "    list(doc)\n",
    "    print(doc)\n",
    "list(doc)"
   ]
  },
  {
   "cell_type": "code",
   "execution_count": 21,
   "metadata": {},
   "outputs": [
    {
     "name": "stdout",
     "output_type": "stream",
     "text": [
      "<pymongo.cursor.Cursor object at 0x10c2e8d90>\n"
     ]
    },
    {
     "data": {
      "text/plain": [
       "[]"
      ]
     },
     "execution_count": 21,
     "metadata": {},
     "output_type": "execute_result"
    }
   ],
   "source": [
    "docs = collection.find({\"authors\":{\"$exists\":1}})\n",
    "print(docs)\n",
    "list(docs)"
   ]
  },
  {
   "cell_type": "code",
   "execution_count": 36,
   "metadata": {},
   "outputs": [
    {
     "name": "stdout",
     "output_type": "stream",
     "text": [
      "Document inserted successfully!\n"
     ]
    }
   ],
   "source": [
    "import pymongo\n",
    "\n",
    "# Connect to MongoDB and select the database and collection\n",
    "client = pymongo.MongoClient(\"mongodb://localhost:27017/\")\n",
    "db = client[\"Todo\"]  # Replace \"Todo\" with your database name\n",
    "collection = db[\"example\"]\n",
    "\n",
    "# Dictionary created in TODO 6 Chapter II\n",
    "papers_dict = {\n",
    "    \"LeCun et al.\": {\n",
    "        \"title\": \"Deep Learning\",\n",
    "        \"authors\": {\n",
    "            \"Yann LeCun\": {\"affiliations\": [\"Facebook AI Research\", \"New York University\"]},\n",
    "            \"Yoshua Bengio\": {\"affiliations\": [\"Department of Computer Science and Operations Research Université de Montréal\"]},\n",
    "            \"Geoffrey Hinton\": {\"affiliations\": [\"Google\", \"Department of Computer Science, University of Toronto\"]}\n",
    "        }\n",
    "    },\n",
    "    \"Goodfellow et al.\": {\n",
    "        \"title\": \"Generative Adversarial Nets\",\n",
    "        \"authors\": {\n",
    "            \"Ian Goodfellow\": {\"affiliations\": [\"Universite de Montreal\"]},\n",
    "            \"Jean Pouget-Abadie\": {\"affiliations\": [\"Ecole Polytechnique\"]},\n",
    "            \"Mehdi Mirza\": {\"affiliations\": [\"Université de Montréal\"]},\n",
    "            \"Bing Xu\": {\"affiliations\": [\"Université de Montréal\"]},\n",
    "            \"David Warde-Farley\": {\"affiliations\": [\"Université de Montréal\"]},\n",
    "            \"Sherjil Ozair\": {\"affiliations\": [\"Indian Institute of Technology Delhi\"]},\n",
    "            \"Aaron Courville\": {\"affiliations\": [\"Université de Montréal\"]},\n",
    "            \"Yoshua Bengio\": {\"affiliations\": [\"CIFAR Senior Fellow\"]}\n",
    "        }\n",
    "    }\n",
    "}\n",
    "\n",
    "# Insert the dictionary into the collection\n",
    "collection.insert_one(papers_dict)\n",
    "\n",
    "# Confirm insertion\n",
    "print(\"Document inserted successfully!\")\n"
   ]
  },
  {
   "cell_type": "code",
   "execution_count": 39,
   "metadata": {},
   "outputs": [],
   "source": [
    "import pymongo\n",
    "\n",
    "# Establish connection to MongoDB\n",
    "client = pymongo.MongoClient(\"mongodb://localhost:27017/\")\n",
    "db = client[\"Todo\"]  # Assuming \"Todo\" is your database name\n",
    "collection = db[\"CRUD_exercise\"]\n",
    "\n",
    "# Query to retrieve documents where the \"authors\" key exists\n",
    "query = {\"authors\": {\"$exists\": True}}\n",
    "\n",
    "# Find documents matching the query\n",
    "documents_with_authors = collection.find(query)\n",
    "\n",
    "# Iterate over the documents and print them\n",
    "for document in documents_with_authors:\n",
    "    print(document)\n"
   ]
  },
  {
   "cell_type": "code",
   "execution_count": 40,
   "metadata": {},
   "outputs": [],
   "source": [
    "# Query to retrieve all documents\n",
    "query = {\"authors\": {\"$exists\": True}}\n",
    "\n",
    "# Find all documents\n",
    "all_documents = collection.find(query)\n",
    "\n",
    "# Iterate over the documents and print them\n",
    "for document in all_documents:\n",
    "    print(document)\n"
   ]
  }
 ],
 "metadata": {
  "kernelspec": {
   "display_name": "base",
   "language": "python",
   "name": "python3"
  },
  "language_info": {
   "codemirror_mode": {
    "name": "ipython",
    "version": 3
   },
   "file_extension": ".py",
   "mimetype": "text/x-python",
   "name": "python",
   "nbconvert_exporter": "python",
   "pygments_lexer": "ipython3",
   "version": "3.11.5"
  }
 },
 "nbformat": 4,
 "nbformat_minor": 2
}
